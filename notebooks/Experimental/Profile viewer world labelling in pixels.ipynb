{
 "cells": [
  {
   "cell_type": "markdown",
   "id": "a38fef1f",
   "metadata": {},
   "source": [
    "## 1D data"
   ]
  },
  {
   "cell_type": "code",
   "execution_count": null,
   "id": "10603e01",
   "metadata": {
    "scrolled": true
   },
   "outputs": [],
   "source": [
    "from astropy.wcs import WCS"
   ]
  },
  {
   "cell_type": "code",
   "execution_count": null,
   "id": "51dcf536",
   "metadata": {},
   "outputs": [],
   "source": [
    "wcs = WCS(naxis=1)\n",
    "wcs.wcs.ctype = 'FREQ-LOG',\n",
    "wcs.wcs.crval = 1e9,\n",
    "wcs.wcs.crpix = 50,\n",
    "wcs.wcs.cdelt = 5e7,\n",
    "wcs.wcs.cunit = 'Hz',"
   ]
  },
  {
   "cell_type": "code",
   "execution_count": null,
   "id": "a28d61ca",
   "metadata": {},
   "outputs": [],
   "source": [
    "%matplotlib inline"
   ]
  },
  {
   "cell_type": "code",
   "execution_count": null,
   "id": "cb4562dc",
   "metadata": {},
   "outputs": [],
   "source": [
    "import numpy as np\n",
    "import matplotlib.pyplot as plt"
   ]
  },
  {
   "cell_type": "code",
   "execution_count": null,
   "id": "f580306d",
   "metadata": {},
   "outputs": [],
   "source": [
    "x = np.arange(100)\n",
    "y = np.exp(-(x - 50) ** 2 / 40)"
   ]
  },
  {
   "cell_type": "code",
   "execution_count": null,
   "id": "b24a8670",
   "metadata": {},
   "outputs": [],
   "source": [
    "plt.subplot(1, 2, 1)\n",
    "plt.plot(x, wcs.pixel_to_world(x))\n",
    "plt.subplot(1, 2, 2)\n",
    "plt.plot(wcs.pixel_to_world(x), y)"
   ]
  },
  {
   "cell_type": "code",
   "execution_count": null,
   "id": "0fdfa807",
   "metadata": {},
   "outputs": [],
   "source": [
    "from glue.core import Data"
   ]
  },
  {
   "cell_type": "code",
   "execution_count": null,
   "id": "d7280b32",
   "metadata": {},
   "outputs": [],
   "source": [
    "data = Data(y=y, coords=wcs, label='Test')"
   ]
  },
  {
   "cell_type": "code",
   "execution_count": null,
   "id": "29a1c28c",
   "metadata": {},
   "outputs": [],
   "source": [
    "from glue_jupyter import jglue"
   ]
  },
  {
   "cell_type": "code",
   "execution_count": null,
   "id": "d6547691",
   "metadata": {},
   "outputs": [],
   "source": [
    "app = jglue()\n",
    "app.add_data(data)"
   ]
  },
  {
   "cell_type": "code",
   "execution_count": null,
   "id": "2c8f4d63",
   "metadata": {},
   "outputs": [],
   "source": [
    "data.coords.world_axis_units"
   ]
  },
  {
   "cell_type": "code",
   "execution_count": null,
   "id": "6b6f7e76",
   "metadata": {},
   "outputs": [],
   "source": [
    "comp = data.get_component(data.world_component_ids[0])"
   ]
  },
  {
   "cell_type": "code",
   "execution_count": null,
   "id": "35855deb",
   "metadata": {},
   "outputs": [],
   "source": [
    "comp.units"
   ]
  },
  {
   "cell_type": "code",
   "execution_count": null,
   "id": "6204c60c",
   "metadata": {},
   "outputs": [],
   "source": [
    "p = app.profile1d()\n",
    "p.state.x_att = data.pixel_component_ids[0]"
   ]
  },
  {
   "cell_type": "code",
   "execution_count": null,
   "id": "36468f7a",
   "metadata": {},
   "outputs": [],
   "source": [
    "p.axis_x.tick_values"
   ]
  },
  {
   "cell_type": "code",
   "execution_count": null,
   "id": "4117e83f",
   "metadata": {},
   "outputs": [],
   "source": [
    "p.state.x_show_world = False"
   ]
  },
  {
   "cell_type": "markdown",
   "id": "27289ccf",
   "metadata": {},
   "source": [
    "## 3D data"
   ]
  },
  {
   "cell_type": "code",
   "execution_count": null,
   "id": "a8d6a680",
   "metadata": {},
   "outputs": [],
   "source": [
    "wcs_3d = WCS(naxis=3)\n",
    "wcs_3d.wcs.ctype = 'RA---TAN', 'FREQ-LOG', 'DEC--TAN'\n",
    "wcs_3d.wcs.crval = 10, 1e9, 30\n",
    "wcs_3d.wcs.crpix = 30, 50, 70\n",
    "wcs_3d.wcs.cdelt = -0.01, 5e7, 0.01\n",
    "wcs_3d.wcs.cunit = 'deg', 'Hz', 'deg'"
   ]
  },
  {
   "cell_type": "code",
   "execution_count": null,
   "id": "ac780fa7",
   "metadata": {},
   "outputs": [],
   "source": [
    "wcs_3d.wcs.set()"
   ]
  },
  {
   "cell_type": "code",
   "execution_count": null,
   "id": "7566e74b",
   "metadata": {},
   "outputs": [],
   "source": [
    "data_3d = Data(y=np.broadcast_to(y[np.newaxis, :, np.newaxis], (50, 100, 50)), coords=wcs_3d, label='Test 3D')"
   ]
  },
  {
   "cell_type": "code",
   "execution_count": null,
   "id": "9ba13115",
   "metadata": {},
   "outputs": [],
   "source": [
    "app.add_data(data_3d)"
   ]
  },
  {
   "cell_type": "code",
   "execution_count": null,
   "id": "5b7bf731",
   "metadata": {},
   "outputs": [],
   "source": [
    "p = app.profile1d(data=data_3d)\n",
    "p.state.x_att = data_3d.pixel_component_ids[1]"
   ]
  }
 ],
 "metadata": {
  "kernelspec": {
   "display_name": "Python 3 (ipykernel)",
   "language": "python",
   "name": "python3"
  },
  "language_info": {
   "codemirror_mode": {
    "name": "ipython",
    "version": 3
   },
   "file_extension": ".py",
   "mimetype": "text/x-python",
   "name": "python",
   "nbconvert_exporter": "python",
   "pygments_lexer": "ipython3",
   "version": "3.11.2"
  }
 },
 "nbformat": 4,
 "nbformat_minor": 5
}
