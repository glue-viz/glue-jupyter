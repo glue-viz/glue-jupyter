{
 "cells": [
  {
   "cell_type": "code",
   "execution_count": null,
   "id": "10603e01",
   "metadata": {},
   "outputs": [],
   "source": [
    "from astropy.wcs import WCS"
   ]
  },
  {
   "cell_type": "code",
   "execution_count": null,
   "id": "51dcf536",
   "metadata": {},
   "outputs": [],
   "source": [
    "wcs = WCS(naxis=1)\n",
    "wcs.wcs.ctype = 'FREQ-LOG',\n",
    "wcs.wcs.crval = 1e9,\n",
    "wcs.wcs.crpix = 50,\n",
    "wcs.wcs.cdelt = 5e7,"
   ]
  },
  {
   "cell_type": "code",
   "execution_count": null,
   "id": "a28d61ca",
   "metadata": {},
   "outputs": [],
   "source": [
    "%matplotlib inline"
   ]
  },
  {
   "cell_type": "code",
   "execution_count": null,
   "id": "cb4562dc",
   "metadata": {},
   "outputs": [],
   "source": [
    "import numpy as np\n",
    "import matplotlib.pyplot as plt"
   ]
  },
  {
   "cell_type": "code",
   "execution_count": null,
   "id": "f580306d",
   "metadata": {},
   "outputs": [],
   "source": [
    "x = np.arange(100)\n",
    "y = np.exp(-(x - 50) ** 2 / 40)"
   ]
  },
  {
   "cell_type": "code",
   "execution_count": null,
   "id": "b24a8670",
   "metadata": {},
   "outputs": [],
   "source": [
    "plt.subplot(1, 2, 1)\n",
    "plt.plot(x, wcs.pixel_to_world(x))\n",
    "plt.subplot(1, 2, 2)\n",
    "plt.plot(wcs.pixel_to_world(x), y)"
   ]
  },
  {
   "cell_type": "code",
   "execution_count": null,
   "id": "0fdfa807",
   "metadata": {},
   "outputs": [],
   "source": [
    "from glue.core import Data"
   ]
  },
  {
   "cell_type": "code",
   "execution_count": null,
   "id": "d7280b32",
   "metadata": {},
   "outputs": [],
   "source": [
    "data = Data(y=y, coords=wcs, label='Test')"
   ]
  },
  {
   "cell_type": "code",
   "execution_count": null,
   "id": "29a1c28c",
   "metadata": {},
   "outputs": [],
   "source": [
    "from glue_jupyter import jglue"
   ]
  },
  {
   "cell_type": "code",
   "execution_count": null,
   "id": "d6547691",
   "metadata": {},
   "outputs": [],
   "source": [
    "app = jglue()\n",
    "app.add_data(data)"
   ]
  },
  {
   "cell_type": "code",
   "execution_count": null,
   "id": "6204c60c",
   "metadata": {
    "scrolled": false
   },
   "outputs": [],
   "source": [
    "p = app.profile1d()\n",
    "p.state.x_att = data.pixel_component_ids[0]"
   ]
  }
 ],
 "metadata": {
  "kernelspec": {
   "display_name": "Python 3 (ipykernel)",
   "language": "python",
   "name": "python3"
  },
  "language_info": {
   "codemirror_mode": {
    "name": "ipython",
    "version": 3
   },
   "file_extension": ".py",
   "mimetype": "text/x-python",
   "name": "python",
   "nbconvert_exporter": "python",
   "pygments_lexer": "ipython3",
   "version": "3.11.2"
  }
 },
 "nbformat": 4,
 "nbformat_minor": 5
}
